{
  "nbformat": 4,
  "nbformat_minor": 0,
  "metadata": {
    "colab": {
      "name": "Data Science - Batch 1 - Assignment 1",
      "provenance": [],
      "collapsed_sections": [],
      "authorship_tag": "ABX9TyO0QhSKRRSX+r8Ve52+6mHD",
      "include_colab_link": true
    },
    "kernelspec": {
      "name": "python3",
      "display_name": "Python 3"
    }
  },
  "cells": [
    {
      "cell_type": "markdown",
      "metadata": {
        "id": "view-in-github",
        "colab_type": "text"
      },
      "source": [
        "<a href=\"https://colab.research.google.com/github/snehalshinde16/Letsupgrade-Data-Scienc-Essential-Batch-01/blob/main/Data_Science_Batch_1_Assignment_1.ipynb\" target=\"_parent\"><img src=\"https://colab.research.google.com/assets/colab-badge.svg\" alt=\"Open In Colab\"/></a>"
      ]
    },
    {
      "cell_type": "code",
      "metadata": {
        "id": "n-gtgkxGrTtK"
      },
      "source": [
        "# Questions 1: \n",
        "# Given the following jumbled word, OBANWRI guess the correct English word. \n",
        "# A. RANIBOW B. RAINBOW C. BOWRANI D. ROBWANI "
      ],
      "execution_count": null,
      "outputs": []
    },
    {
      "cell_type": "code",
      "metadata": {
        "id": "mJUbDAX7r2Cf",
        "outputId": "544bbcd9-2717-4504-8f41-facf8a302772",
        "colab": {
          "base_uri": "https://localhost:8080/"
        }
      },
      "source": [
        "word_list = [\"RANIBOW\",\"RAINBOW\",\"BOWRANI\",\"ROBWANI\"]\n",
        "guess_word = \"RAINBOW\"\n",
        "guess = \" \"\n",
        "\n",
        "while guess_word!= guess.upper():\n",
        "    guess = input(\"Enter Guess Word : \")\n",
        "\n",
        "print(\"You guess correct word\",guess)\n",
        "\n"
      ],
      "execution_count": 2,
      "outputs": [
        {
          "output_type": "stream",
          "text": [
            "Enter Guess Word : RAINBOW\n",
            "You guess correct word RAINBOW\n"
          ],
          "name": "stdout"
        }
      ]
    },
    {
      "cell_type": "code",
      "metadata": {
        "id": "2-0FAx9sr_PN"
      },
      "source": [
        "# Questions 2:\n",
        "# Write a program which prints “LETS UPGRADE”. (Please note that you have to print in ALL CAPS as given) "
      ],
      "execution_count": null,
      "outputs": []
    },
    {
      "cell_type": "code",
      "metadata": {
        "id": "kZJFYoper-7u",
        "outputId": "8f5e8988-e89e-4649-a3a1-f226872216af",
        "colab": {
          "base_uri": "https://localhost:8080/"
        }
      },
      "source": [
        "String = input(\"Please enter string : \")\n",
        "print(String.upper())"
      ],
      "execution_count": null,
      "outputs": [
        {
          "output_type": "stream",
          "text": [
            "Please enter string : lets upgrade\n",
            "LETS UPGRADE\n"
          ],
          "name": "stdout"
        }
      ]
    },
    {
      "cell_type": "code",
      "metadata": {
        "id": "xrBupzi5r-p1"
      },
      "source": [
        "# Questions 3:\n",
        "# Write a program that takes cost price and selling price as input and displays whether the transaction is a Profit or a Loss or Neither. \n",
        "# INPUT FORMAT The first line contains the cost price. The second line contains the selling price. \n",
        "# OUTPUT FORMAT Print \"Profit\" if the transaction is a profit or \"Loss\" if it is a loss. If it is neither profit nor loss, print \"Neither\". \n",
        "# (You must not have quotes in your output) "
      ],
      "execution_count": null,
      "outputs": []
    },
    {
      "cell_type": "code",
      "metadata": {
        "id": "K263kN_Pr-Xf",
        "outputId": "679e6bfe-a342-4cec-ef53-13fa06e96959",
        "colab": {
          "base_uri": "https://localhost:8080/"
        }
      },
      "source": [
        "CP = float(input(\" Please Enter the Cost Price of the product: \"))\n",
        "\n",
        "SP = float(input(\" Please Enter the Sale Price of the product: \"))\n",
        "\n",
        "if(CP > SP):\n",
        "\n",
        "   amount = CP - SP\n",
        "\n",
        "   print(\"Total Loss Amount : \",amount)\n",
        "\n",
        "elif(SP > CP):\n",
        "\n",
        "   amount = SP - CP\n",
        "\n",
        "   print(\"Total Profit : \",amount)\n",
        "\n",
        "else:\n",
        "\n",
        "   print(\"There is no Profit no Loss....\")"
      ],
      "execution_count": null,
      "outputs": [
        {
          "output_type": "stream",
          "text": [
            " Please Enter the Cost Price of the product: 20\n",
            " Please Enter the Sale Price of the product: 30\n",
            "Total Profit :  10.0\n"
          ],
          "name": "stdout"
        }
      ]
    },
    {
      "cell_type": "code",
      "metadata": {
        "id": "_ZWryRPWr9uw"
      },
      "source": [
        "# Questions 4:\n",
        "# Write a program that takes an amount in Indian Rupees as input. You need to find its equivalent in Euro and display it. \n",
        "# Assume 1 Euro equals Rs. 80. Please note that you are expected to stick to the given input and output format as in sample test cases. \n",
        "# Please don't add any extra lines such as 'Enter a number', etc.\n",
        "# Your program should take only one number as input and display the output. "
      ],
      "execution_count": null,
      "outputs": []
    },
    {
      "cell_type": "code",
      "metadata": {
        "id": "1Umv9M1vr9Sj",
        "outputId": "42bfb406-7ffc-460c-8a68-1fad5fe94d67",
        "colab": {
          "base_uri": "https://localhost:8080/"
        }
      },
      "source": [
        "euro = float(input(\"Please Enter Euro:\"))\n",
        "rupees = euro * 80\n",
        "print(rupees, \" Rupees\")"
      ],
      "execution_count": null,
      "outputs": [
        {
          "output_type": "stream",
          "text": [
            "Please Enter Euro:50\n",
            "4000.0  Rupees\n"
          ],
          "name": "stdout"
        }
      ]
    }
  ]
}