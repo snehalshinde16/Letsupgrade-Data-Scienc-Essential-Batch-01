{
  "nbformat": 4,
  "nbformat_minor": 0,
  "metadata": {
    "colab": {
      "name": ".Data Science - Batch 1 - Assignment 3.ipynb",
      "provenance": [],
      "collapsed_sections": [],
      "authorship_tag": "ABX9TyMQaG4ik7KbKRXK43M2SJk7",
      "include_colab_link": true
    },
    "kernelspec": {
      "name": "python3",
      "display_name": "Python 3"
    }
  },
  "cells": [
    {
      "cell_type": "markdown",
      "metadata": {
        "id": "view-in-github",
        "colab_type": "text"
      },
      "source": [
        "<a href=\"https://colab.research.google.com/github/snehalshinde16/Letsupgrade-Data-Scienc-Essential-Batch-01/blob/main/_Data_Science_Batch_1_Assignment_3.ipynb\" target=\"_parent\"><img src=\"https://colab.research.google.com/assets/colab-badge.svg\" alt=\"Open In Colab\"/></a>"
      ]
    },
    {
      "cell_type": "code",
      "metadata": {
        "id": "eh3DrjI5Sbtp"
      },
      "source": [
        "# Question 1:\n",
        "# Create a numpy array starting from 2 till 50 with a stepsize of 3. "
      ],
      "execution_count": null,
      "outputs": []
    },
    {
      "cell_type": "code",
      "metadata": {
        "id": "PCTLSJ2LS9tl",
        "outputId": "9acd922c-ff3d-4050-b82c-f4fca4be2734",
        "colab": {
          "base_uri": "https://localhost:8080/"
        }
      },
      "source": [
        "import numpy as np\n",
        "arr = np.arange(2, 50, 3)\n",
        "print(arr)"
      ],
      "execution_count": 3,
      "outputs": [
        {
          "output_type": "stream",
          "text": [
            "[ 2  5  8 11 14 17 20 23 26 29 32 35 38 41 44 47]\n"
          ],
          "name": "stdout"
        }
      ]
    },
    {
      "cell_type": "code",
      "metadata": {
        "id": "hImn9JQNNNme"
      },
      "source": [
        "# Questions 2: \n",
        "# Accept two lists of 5 elements each from the user.  \n",
        "# Convert them to numpy arrays. Concatenate these arrays and print it. Also sort these arrays and print it. "
      ],
      "execution_count": null,
      "outputs": []
    },
    {
      "cell_type": "code",
      "metadata": {
        "id": "twP_vXKWhADt",
        "outputId": "7fdf1d82-9851-4f40-9763-ed46b740a9e9",
        "colab": {
          "base_uri": "https://localhost:8080/"
        }
      },
      "source": [
        "import numpy as np\n",
        "# Accept two lists of 5 elements each from the user.\n",
        "lst1 = [] \n",
        "n = int(input(\"Enter number of elements : \")) \n",
        "for i in range(0, n): \n",
        "    ele = input()\n",
        "    lst1.append(ele) \n",
        "print(lst1)\n",
        "\n",
        "lst2 = [] \n",
        "n = int(input(\"Enter number of elements : \")) \n",
        "for i in range(0, n): \n",
        "    ele = input()\n",
        "    lst2.append(ele) \n",
        "print(lst2)"
      ],
      "execution_count": 22,
      "outputs": [
        {
          "output_type": "stream",
          "text": [
            "Enter number of elements : 5\n",
            "1\n",
            "2\n",
            "3\n",
            "4\n",
            "5\n",
            "['1', '2', '3', '4', '5']\n",
            "Enter number of elements : 5\n",
            "6\n",
            "7\n",
            "8\n",
            "9\n",
            "10\n",
            "['6', '7', '8', '9', '10']\n"
          ],
          "name": "stdout"
        }
      ]
    },
    {
      "cell_type": "code",
      "metadata": {
        "id": "99lX08sDgcRr",
        "outputId": "78aa18ac-dc11-4a55-b312-958caa6d7970",
        "colab": {
          "base_uri": "https://localhost:8080/"
        }
      },
      "source": [
        "# Convert them to numpy arrays.\n",
        "npArray1 = np.array([lst1])\n",
        "print('Contents of the ndArray : ')\n",
        "print(npArray1)\n",
        "print(\"\\n\")\n",
        "npArray2 = np.array([lst2])\n",
        "print('Contents of the ndArray : ')\n",
        "print(npArray2)"
      ],
      "execution_count": 23,
      "outputs": [
        {
          "output_type": "stream",
          "text": [
            "Contents of the ndArray : \n",
            "[['1' '2' '3' '4' '5']]\n",
            "\n",
            "\n",
            "Contents of the ndArray : \n",
            "[['6' '7' '8' '9' '10']]\n"
          ],
          "name": "stdout"
        }
      ]
    },
    {
      "cell_type": "code",
      "metadata": {
        "id": "DU-7qQcIgczQ",
        "outputId": "a9a90e90-2d96-4834-d6bb-4b422e6ee6b3",
        "colab": {
          "base_uri": "https://localhost:8080/"
        }
      },
      "source": [
        "# Concatenate these arrays and print it.\n",
        "arr = np.concatenate((npArray1,npArray2))\n",
        "print(\"Concatenate array : \",arr)\n"
      ],
      "execution_count": 24,
      "outputs": [
        {
          "output_type": "stream",
          "text": [
            "Concatenate array :  [['1' '2' '3' '4' '5']\n",
            " ['6' '7' '8' '9' '10']]\n"
          ],
          "name": "stdout"
        }
      ]
    },
    {
      "cell_type": "code",
      "metadata": {
        "id": "YKpLqNxggchc",
        "outputId": "4173a186-6dde-4045-95d4-7deb949b0c2d",
        "colab": {
          "base_uri": "https://localhost:8080/"
        }
      },
      "source": [
        "# sort these arrays and print it.\n",
        "arr2 = np.sort(arr)         \n",
        "print (\"Sorted array : \",arr2) "
      ],
      "execution_count": 25,
      "outputs": [
        {
          "output_type": "stream",
          "text": [
            "Sorted array :  [['1' '2' '3' '4' '5']\n",
            " ['10' '6' '7' '8' '9']]\n"
          ],
          "name": "stdout"
        }
      ]
    },
    {
      "cell_type": "code",
      "metadata": {
        "id": "ZfDQxLvzVapK"
      },
      "source": [
        "# Questions 3:  \n",
        "# Write a code snippet to find the dimensions of a ndarray and its size. "
      ],
      "execution_count": null,
      "outputs": []
    },
    {
      "cell_type": "code",
      "metadata": {
        "id": "4lcMCClRVaKZ",
        "outputId": "3f3420bd-c677-402e-b2b6-0202d69e3f72",
        "colab": {
          "base_uri": "https://localhost:8080/"
        }
      },
      "source": [
        "arr = np.array( [[ 1, 2, 3],\n",
        "                 [ 4, 2, 5]] )\n",
        " \n",
        "\n",
        "print(\"Array is of type: \", type(arr))\n",
        " \n",
        "\n",
        "print(\"No. of dimensions: \", arr.ndim)\n",
        " \n",
        " \n",
        "print(\"Size of array: \", arr.size)\n",
        " \n"
      ],
      "execution_count": 10,
      "outputs": [
        {
          "output_type": "stream",
          "text": [
            "Array is of type:  <class 'numpy.ndarray'>\n",
            "No. of dimensions:  2\n",
            "Size of array:  6\n"
          ],
          "name": "stdout"
        }
      ]
    },
    {
      "cell_type": "code",
      "metadata": {
        "id": "oZnY7dTeaj2b"
      },
      "source": [
        "# Questions 4:  \n",
        "# How to convert a 1D array into a 2D array? Demonstrate with the help of a code snippet \n",
        "# Hint: np.newaxis, np.expand_dims "
      ],
      "execution_count": null,
      "outputs": []
    },
    {
      "cell_type": "code",
      "metadata": {
        "id": "VZACTVaKa7n2"
      },
      "source": [
        "# Call numpy.reshape(a, newshape) with a as a 1D array \n",
        "# and newshape as the tuple (-1, x) to reshape the array to a 2D array containing nested arrays of x values each."
      ],
      "execution_count": null,
      "outputs": []
    },
    {
      "cell_type": "code",
      "metadata": {
        "id": "xrG1AxwqajkP",
        "outputId": "f5f7fac2-76a4-4c24-a771-77aa8ad22578",
        "colab": {
          "base_uri": "https://localhost:8080/"
        }
      },
      "source": [
        "arr_1D = np.array([1,2,3,4,5,6,7,8,9])\n",
        "print(\"1D Array is : \",arr_1D)\n",
        "\n",
        "# 2D Array\n",
        "arr_2D = np.reshape(arr_1D, (-1, 3))\n",
        "print(\"2D Array is : \",arr_2D)\n"
      ],
      "execution_count": 15,
      "outputs": [
        {
          "output_type": "stream",
          "text": [
            "1D Array is :  [1 2 3 4 5 6 7 8 9]\n",
            "2D Array is :  [[1 2 3]\n",
            " [4 5 6]\n",
            " [7 8 9]]\n"
          ],
          "name": "stdout"
        }
      ]
    },
    {
      "cell_type": "code",
      "metadata": {
        "id": "2UaANaZ_cZ3n"
      },
      "source": [
        "# Questions 5: \n",
        "# Consider two square numpy arrays. Stack them vertically and horizontally. \n",
        "# Hint: Use vstack(), hstack() "
      ],
      "execution_count": null,
      "outputs": []
    },
    {
      "cell_type": "code",
      "metadata": {
        "id": "ZqgK8xLJcZlA",
        "outputId": "a9e911a2-ffc9-4980-c84e-0ed64202e5c2",
        "colab": {
          "base_uri": "https://localhost:8080/"
        }
      },
      "source": [
        "a = np.array([[5,10], \n",
        "              [20,25]]) \n",
        "  \n",
        "b = np.array([[35,40], \n",
        "              [50,55]]) \n",
        "  \n",
        "# vertical stacking \n",
        "print(\"Vertical stacking:\\n\", np.vstack((a, b))) \n",
        "  \n",
        "# horizontal stacking \n",
        "print(\"\\nHorizontal stacking:\\n\", np.hstack((a, b))) \n",
        "  "
      ],
      "execution_count": 18,
      "outputs": [
        {
          "output_type": "stream",
          "text": [
            "Vertical stacking:\n",
            " [[ 5 10]\n",
            " [20 25]\n",
            " [35 40]\n",
            " [50 55]]\n",
            "\n",
            "Horizontal stacking:\n",
            " [[ 5 10 35 40]\n",
            " [20 25 50 55]]\n"
          ],
          "name": "stdout"
        }
      ]
    },
    {
      "cell_type": "code",
      "metadata": {
        "id": "UGu1XDvleA04"
      },
      "source": [
        "# Questions 6: \n",
        "# How to get unique items and counts of unique items? "
      ],
      "execution_count": null,
      "outputs": []
    },
    {
      "cell_type": "code",
      "metadata": {
        "id": "2wFohOoogCxS"
      },
      "source": [
        "# Using given syntax = numpy.unique(arr, return_counts=False)\n",
        "# We sorted unique elements of an array with their corresponding frequency counts NumPy array."
      ],
      "execution_count": null,
      "outputs": []
    },
    {
      "cell_type": "code",
      "metadata": {
        "id": "bQIV2yCceAhw",
        "outputId": "a97531ba-c72b-470c-c8a0-fda84c96c34c",
        "colab": {
          "base_uri": "https://localhost:8080/"
        }
      },
      "source": [
        "import numpy as np\n",
        "arr = np.array([10, 20, 5, 10, 8, 20, 8, 9]) \n",
        "  \n",
        "unique, count = np.unique(arr, return_counts = True) \n",
        "# unique items \n",
        "print(\"Unique items:\", unique) \n",
        "  \n",
        "# counts of unique items \n",
        "print(\"counts of unique items:\", count)"
      ],
      "execution_count": 20,
      "outputs": [
        {
          "output_type": "stream",
          "text": [
            "Unique items: [ 5  8  9 10 20]\n",
            "counts of unique items: [1 2 1 2 2]\n"
          ],
          "name": "stdout"
        }
      ]
    }
  ]
}